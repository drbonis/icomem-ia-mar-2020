{
 "cells": [
  {
   "cell_type": "code",
   "execution_count": 2,
   "metadata": {
    "colab": {},
    "colab_type": "code",
    "id": "U2zJteh4Zb8O"
   },
   "outputs": [],
   "source": [
    "import pandas as pd\n",
    "import numpy as np\n",
    "import nltk\n",
    "from IPython.core.display import display, HTML"
   ]
  },
  {
   "cell_type": "code",
   "execution_count": 5,
   "metadata": {
    "colab": {},
    "colab_type": "code",
    "id": "FsoWuLIqZgJb"
   },
   "outputs": [],
   "source": [
    "# Descargamos el corpus\n",
    "#data_url = 'https://github.com/drbonis/icomem-ia-mar-2020/raw/master/data/coronavirus_case_reports.csv'\n",
    "data_url = './data/coronavirus_case_reports.csv'\n",
    "df = pd.read_csv(data_url)"
   ]
  },
  {
   "cell_type": "code",
   "execution_count": 6,
   "metadata": {
    "colab": {
     "base_uri": "https://localhost:8080/",
     "height": 204
    },
    "colab_type": "code",
    "id": "rh4X0klwanZI",
    "outputId": "79030a16-5504-4440-9448-5d9501b7b2c7"
   },
   "outputs": [
    {
     "data": {
      "text/html": [
       "<div>\n",
       "<style scoped>\n",
       "    .dataframe tbody tr th:only-of-type {\n",
       "        vertical-align: middle;\n",
       "    }\n",
       "\n",
       "    .dataframe tbody tr th {\n",
       "        vertical-align: top;\n",
       "    }\n",
       "\n",
       "    .dataframe thead th {\n",
       "        text-align: right;\n",
       "    }\n",
       "</style>\n",
       "<table border=\"1\" class=\"dataframe\">\n",
       "  <thead>\n",
       "    <tr style=\"text-align: right;\">\n",
       "      <th></th>\n",
       "      <th>src</th>\n",
       "      <th>coronavirus</th>\n",
       "      <th>length</th>\n",
       "    </tr>\n",
       "  </thead>\n",
       "  <tbody>\n",
       "    <tr>\n",
       "      <th>0</th>\n",
       "      <td>BACKGROUND: Dengue is the most important human...</td>\n",
       "      <td>0</td>\n",
       "      <td>1634</td>\n",
       "    </tr>\n",
       "    <tr>\n",
       "      <th>1</th>\n",
       "      <td>A 21 year-old man, HIV infected, and with poor...</td>\n",
       "      <td>0</td>\n",
       "      <td>550</td>\n",
       "    </tr>\n",
       "    <tr>\n",
       "      <th>2</th>\n",
       "      <td>BACKGROUND: Keratomycosis is one of the most p...</td>\n",
       "      <td>0</td>\n",
       "      <td>1306</td>\n",
       "    </tr>\n",
       "    <tr>\n",
       "      <th>3</th>\n",
       "      <td>Congenital toxoplasmosis continues to be a pub...</td>\n",
       "      <td>0</td>\n",
       "      <td>1047</td>\n",
       "    </tr>\n",
       "    <tr>\n",
       "      <th>4</th>\n",
       "      <td>The incidence of prosthetic shoulder replaceme...</td>\n",
       "      <td>0</td>\n",
       "      <td>563</td>\n",
       "    </tr>\n",
       "  </tbody>\n",
       "</table>\n",
       "</div>"
      ],
      "text/plain": [
       "                                                 src  coronavirus  length\n",
       "0  BACKGROUND: Dengue is the most important human...            0    1634\n",
       "1  A 21 year-old man, HIV infected, and with poor...            0     550\n",
       "2  BACKGROUND: Keratomycosis is one of the most p...            0    1306\n",
       "3  Congenital toxoplasmosis continues to be a pub...            0    1047\n",
       "4  The incidence of prosthetic shoulder replaceme...            0     563"
      ]
     },
     "execution_count": 6,
     "metadata": {},
     "output_type": "execute_result"
    }
   ],
   "source": [
    "df.head()"
   ]
  },
  {
   "cell_type": "code",
   "execution_count": 8,
   "metadata": {
    "colab": {},
    "colab_type": "code",
    "id": "S_Ynfs_QZSb7"
   },
   "outputs": [],
   "source": [
    "# Vamos a vectorizar los textos\n",
    "from sklearn.feature_extraction.text import CountVectorizer\n",
    "vectorizer = CountVectorizer(max_features=100000, min_df=5, max_df=0.8, stop_words=None)"
   ]
  },
  {
   "cell_type": "code",
   "execution_count": 9,
   "metadata": {
    "colab": {},
    "colab_type": "code",
    "id": "wF_UoAqRZixn"
   },
   "outputs": [],
   "source": [
    "X = vectorizer.fit_transform(list(df['src'])).toarray()"
   ]
  },
  {
   "cell_type": "code",
   "execution_count": 10,
   "metadata": {
    "colab": {
     "base_uri": "https://localhost:8080/",
     "height": 187
    },
    "colab_type": "code",
    "id": "RgILw8ySjLsp",
    "outputId": "c8845868-80b6-4859-d6de-82cedacb97b8"
   },
   "outputs": [
    {
     "data": {
      "text/plain": [
       "[('background', 474),\n",
       " ('dengue', 1051),\n",
       " ('most', 2519),\n",
       " ('important', 1948),\n",
       " ('human', 1844),\n",
       " ('viral', 4180),\n",
       " ('disease', 1166),\n",
       " ('transmitted', 3981),\n",
       " ('by', 598),\n",
       " ('it', 2136)]"
      ]
     },
     "execution_count": 10,
     "metadata": {},
     "output_type": "execute_result"
    }
   ],
   "source": [
    "[(x, vectorizer.vocabulary_[x]) for x in list(vectorizer.vocabulary_.keys())[0:10]]"
   ]
  },
  {
   "cell_type": "code",
   "execution_count": 11,
   "metadata": {
    "colab": {
     "base_uri": "https://localhost:8080/",
     "height": 34
    },
    "colab_type": "code",
    "id": "bN_6qmr6gUP2",
    "outputId": "e4f3197c-15f5-4e2b-98a7-4c87a47a61f6"
   },
   "outputs": [
    {
     "name": "stdout",
     "output_type": "stream",
     "text": [
      "Tamaño del diccionario de palabras generado: 4273\n"
     ]
    }
   ],
   "source": [
    "print(\"Tamaño del diccionario de palabras generado: {}\".format(len(vectorizer.vocabulary_)))\n"
   ]
  },
  {
   "cell_type": "code",
   "execution_count": 12,
   "metadata": {
    "colab": {
     "base_uri": "https://localhost:8080/",
     "height": 197
    },
    "colab_type": "code",
    "id": "MvmEZkvFkJJp",
    "outputId": "1c25ea67-0706-469e-91a8-ddedaf2a487f"
   },
   "outputs": [
    {
     "data": {
      "text/html": [
       "<div style='font-size: 1.2em'>BACKGROUND: Dengue is the most important human viral disease transmitted by mosquitoes. \n",
       "It can be asymptomatic or it can present in any of its 3clinical forms: Dengue fever, dengue haemorrhagic \n",
       "fever and dengue shock syndrome. However, some atypical manifestations have been reported in surgical emergencies \n",
       "caused by acute appendicitis in patients with dengue fever. CLINICAL CASE: We report the case of an 18-year-old \n",
       "Mexican male who presented to the emergency department of the General Hospital of Culiacan, Sinaloa, with symptoms \n",
       "of dengue fever, <span style='background-color: #b3b3ff'>accompanied</span> by crampy <span style='background-color: #bbff99'>abdominal</span> pain with positive Rovsing and Dunphy signs. Dengue infection was \n",
       "confirmed by a positive NS1 antigen test performed by enzyme-linked immunosorbent assay. An <span style='background-color: #bbff99'>abdominal</span> ultrasound \n",
       "revealed an appendicular process; as the <span style='background-color: #bbff99'>abdominal</span> pain in the right side kept increasing, an open appendectomy \n",
       "was performed. <span style='background-color: #ff9999'>Abundant</span> inflammatory liquid was observed during the surgery, and the pathology laboratory \n",
       "reported an oedematous appendix with fibrinopurulent plaques, which agreed with acute ulcerative appendicitis. \n",
       "The patient was discharged fully recovered without complications during the follow-up period. CONCLUSIONS: Acute \n",
       "<span style='background-color: #bbff99'>abdominal</span> pain can be caused in some cases by dengue infection. This can be confusing, which can lead to unnecessary \n",
       "surgical interventions, creating additional morbidities and costs for the patient. This unusual and coincident \n",
       "acute appendicitis with dengue highlights the importance of performing careful clinical studies for appropriate \n",
       "decision making, especially in dengue endemic regions during an outbreak of this disease.</div>"
      ],
      "text/plain": [
       "<IPython.core.display.HTML object>"
      ]
     },
     "metadata": {},
     "output_type": "display_data"
    }
   ],
   "source": [
    "html_code = \"\"\"<div style='font-size: 1.2em'>BACKGROUND: Dengue is the most important human viral disease transmitted by mosquitoes. \n",
    "It can be asymptomatic or it can present in any of its 3clinical forms: Dengue fever, dengue haemorrhagic \n",
    "fever and dengue shock syndrome. However, some atypical manifestations have been reported in surgical emergencies \n",
    "caused by acute appendicitis in patients with dengue fever. CLINICAL CASE: We report the case of an 18-year-old \n",
    "Mexican male who presented to the emergency department of the General Hospital of Culiacan, Sinaloa, with symptoms \n",
    "of dengue fever, <span style='background-color: #b3b3ff'>accompanied</span> by crampy <span style='background-color: #bbff99'>abdominal</span> pain with positive Rovsing and Dunphy signs. Dengue infection was \n",
    "confirmed by a positive NS1 antigen test performed by enzyme-linked immunosorbent assay. An <span style='background-color: #bbff99'>abdominal</span> ultrasound \n",
    "revealed an appendicular process; as the <span style='background-color: #bbff99'>abdominal</span> pain in the right side kept increasing, an open appendectomy \n",
    "was performed. <span style='background-color: #ff9999'>Abundant</span> inflammatory liquid was observed during the surgery, and the pathology laboratory \n",
    "reported an oedematous appendix with fibrinopurulent plaques, which agreed with acute ulcerative appendicitis. \n",
    "The patient was discharged fully recovered without complications during the follow-up period. CONCLUSIONS: Acute \n",
    "<span style='background-color: #bbff99'>abdominal</span> pain can be caused in some cases by dengue infection. This can be confusing, which can lead to unnecessary \n",
    "surgical interventions, creating additional morbidities and costs for the patient. This unusual and coincident \n",
    "acute appendicitis with dengue highlights the importance of performing careful clinical studies for appropriate \n",
    "decision making, especially in dengue endemic regions during an outbreak of this disease.</div>\"\"\"\n",
    "display(HTML(html_code))"
   ]
  },
  {
   "cell_type": "code",
   "execution_count": 13,
   "metadata": {
    "colab": {
     "base_uri": "https://localhost:8080/",
     "height": 34
    },
    "colab_type": "code",
    "id": "qaQOgaBvbZ7h",
    "outputId": "65e54d97-cdb1-4e25-ea63-63765a170775"
   },
   "outputs": [
    {
     "data": {
      "text/plain": [
       "array([0, 0, 0, ..., 0, 0, 0])"
      ]
     },
     "execution_count": 13,
     "metadata": {},
     "output_type": "execute_result"
    }
   ],
   "source": [
    "X[0]"
   ]
  },
  {
   "cell_type": "code",
   "execution_count": 19,
   "metadata": {
    "colab": {
     "base_uri": "https://localhost:8080/",
     "height": 527
    },
    "colab_type": "code",
    "id": "lFe61FoYiquA",
    "outputId": "31c876b0-30b5-4d3b-81f4-6873978058a3"
   },
   "outputs": [
    {
     "name": "stdout",
     "output_type": "stream",
     "text": [
      "104 abdomen 0\n",
      "105 abdominal 4\n",
      "106 ability 0\n",
      "107 ablation 0\n",
      "108 able 0\n",
      "109 abnormal 0\n",
      "110 abnormalities 0\n",
      "111 abnormality 0\n",
      "112 abortion 0\n",
      "113 about 0\n",
      "114 above 0\n",
      "115 abscess 0\n",
      "116 abscesses 0\n",
      "117 absence 0\n",
      "118 absent 0\n",
      "119 abstinence 0\n",
      "120 abundant 1\n",
      "121 accelerated 0\n",
      "122 acceptable 0\n",
      "123 accepted 0\n",
      "124 access 0\n",
      "125 accessory 0\n",
      "126 accident 0\n",
      "127 accidental 0\n",
      "128 accidentally 0\n",
      "129 accidents 0\n",
      "130 accompanied 1\n"
     ]
    }
   ],
   "source": [
    "voc_inverse = {}\n",
    "for x in list(vectorizer.vocabulary_.keys()):\n",
    "  voc_inverse[vectorizer.vocabulary_[x]] = x\n",
    "\n",
    "for i in range(104,131):\n",
    "  print(i, voc_inverse[i], X[0][i])"
   ]
  },
  {
   "cell_type": "code",
   "execution_count": 20,
   "metadata": {
    "colab": {
     "base_uri": "https://localhost:8080/",
     "height": 34
    },
    "colab_type": "code",
    "id": "iPLyobbDZr5y",
    "outputId": "a36137f1-9cc7-4ff6-ac0d-80871c6826b3"
   },
   "outputs": [
    {
     "data": {
      "text/plain": [
       "(2093, 4273)"
      ]
     },
     "execution_count": 20,
     "metadata": {},
     "output_type": "execute_result"
    }
   ],
   "source": [
    "X.shape"
   ]
  },
  {
   "cell_type": "code",
   "execution_count": 21,
   "metadata": {
    "colab": {
     "base_uri": "https://localhost:8080/",
     "height": 34
    },
    "colab_type": "code",
    "id": "DGq-1_d8ZydQ",
    "outputId": "4168d5d2-4979-4eda-f3a0-b23faa77dba1"
   },
   "outputs": [
    {
     "data": {
      "text/plain": [
       "(2093,)"
      ]
     },
     "execution_count": 21,
     "metadata": {},
     "output_type": "execute_result"
    }
   ],
   "source": [
    "# Vector con la clasificacioin coronavirus si/no\n",
    "y = np.array(df['coronavirus'])\n",
    "y.shape"
   ]
  },
  {
   "cell_type": "code",
   "execution_count": 22,
   "metadata": {
    "colab": {},
    "colab_type": "code",
    "id": "GbC4iWLnfhh0"
   },
   "outputs": [],
   "source": [
    "from sklearn.model_selection import train_test_split\n",
    "X_train, X_test, y_train, y_test = train_test_split(X, y, test_size=0.2, random_state=0)"
   ]
  },
  {
   "cell_type": "code",
   "execution_count": 23,
   "metadata": {
    "colab": {
     "base_uri": "https://localhost:8080/",
     "height": 34
    },
    "colab_type": "code",
    "id": "lR4yB8VTfiuo",
    "outputId": "a06964f8-8d15-499e-ceee-5046435d4207"
   },
   "outputs": [
    {
     "data": {
      "text/plain": [
       "(1674, 4273)"
      ]
     },
     "execution_count": 23,
     "metadata": {},
     "output_type": "execute_result"
    }
   ],
   "source": [
    "X_train.shape"
   ]
  },
  {
   "cell_type": "code",
   "execution_count": 24,
   "metadata": {
    "colab": {
     "base_uri": "https://localhost:8080/",
     "height": 34
    },
    "colab_type": "code",
    "id": "kGFTJ5slbpIh",
    "outputId": "60caba44-2d32-468a-c28a-560cf982605b"
   },
   "outputs": [
    {
     "data": {
      "text/plain": [
       "(419, 4273)"
      ]
     },
     "execution_count": 24,
     "metadata": {},
     "output_type": "execute_result"
    }
   ],
   "source": [
    "X_test.shape"
   ]
  },
  {
   "cell_type": "code",
   "execution_count": 25,
   "metadata": {
    "colab": {
     "base_uri": "https://localhost:8080/",
     "height": 102
    },
    "colab_type": "code",
    "id": "_CTSKQ5HbxhQ",
    "outputId": "965453d5-cdbd-4d81-aa89-08d947400c80"
   },
   "outputs": [
    {
     "data": {
      "text/plain": [
       "LogisticRegression(C=1.0, class_weight=None, dual=False, fit_intercept=True,\n",
       "                   intercept_scaling=1, l1_ratio=None, max_iter=100,\n",
       "                   multi_class='auto', n_jobs=None, penalty='l2',\n",
       "                   random_state=0, solver='lbfgs', tol=0.0001, verbose=0,\n",
       "                   warm_start=False)"
      ]
     },
     "execution_count": 25,
     "metadata": {},
     "output_type": "execute_result"
    }
   ],
   "source": [
    "# Entrenemos un modelo de regresión logística para clasificar los casos de coronavirus\n",
    "# usamos para ello los 1674 casos del training set\n",
    "from sklearn.linear_model import LogisticRegression\n",
    "classifier = LogisticRegression(random_state=0)\n",
    "classifier.fit(X_train, y_train)"
   ]
  },
  {
   "cell_type": "code",
   "execution_count": 26,
   "metadata": {
    "colab": {},
    "colab_type": "code",
    "id": "kwU0xM4WcE5v"
   },
   "outputs": [],
   "source": [
    "# Usemos el modelo para predecir los 419 casos que usamos para validar\n",
    "y_pred = classifier.predict(X_test)"
   ]
  },
  {
   "cell_type": "code",
   "execution_count": 27,
   "metadata": {
    "colab": {
     "base_uri": "https://localhost:8080/",
     "height": 68
    },
    "colab_type": "code",
    "id": "H4KTkRcbcNaP",
    "outputId": "67f9cac5-ac42-45d6-f277-b0b97aec4806"
   },
   "outputs": [
    {
     "data": {
      "text/plain": [
       "array([0, 0, 0, 0, 0, 0, 0, 0, 0, 0, 0, 0, 0, 0, 0, 0, 0, 0, 0, 0, 0, 0,\n",
       "       1, 0, 0, 0, 0, 0, 0, 0, 0, 0, 0, 0, 0, 0, 0, 0, 0, 0, 0, 0, 1, 0,\n",
       "       0, 0, 0, 0, 0, 0])"
      ]
     },
     "execution_count": 27,
     "metadata": {},
     "output_type": "execute_result"
    }
   ],
   "source": [
    "# Lo predicho\n",
    "y_pred[0:50]"
   ]
  },
  {
   "cell_type": "code",
   "execution_count": 28,
   "metadata": {
    "colab": {
     "base_uri": "https://localhost:8080/",
     "height": 68
    },
    "colab_type": "code",
    "id": "PfvlscpCcS2P",
    "outputId": "94918aa9-8d09-4780-a811-20894d290e34"
   },
   "outputs": [
    {
     "data": {
      "text/plain": [
       "array([0, 0, 0, 0, 0, 0, 0, 0, 0, 0, 0, 0, 0, 0, 0, 0, 0, 0, 0, 0, 0, 0,\n",
       "       1, 0, 0, 0, 0, 0, 0, 0, 0, 0, 0, 0, 0, 1, 0, 0, 0, 0, 0, 0, 1, 0,\n",
       "       0, 0, 0, 0, 0, 0])"
      ]
     },
     "execution_count": 28,
     "metadata": {},
     "output_type": "execute_result"
    }
   ],
   "source": [
    "# Lo real\n",
    "y_test[0:50]"
   ]
  },
  {
   "cell_type": "code",
   "execution_count": 29,
   "metadata": {
    "colab": {
     "base_uri": "https://localhost:8080/",
     "height": 221
    },
    "colab_type": "code",
    "id": "E3ZdjeFbcUl2",
    "outputId": "bd4fc9e8-c1b2-4800-a5f8-af2879cc23ff"
   },
   "outputs": [
    {
     "name": "stdout",
     "output_type": "stream",
     "text": [
      "[[410   0]\n",
      " [  1   8]]\n",
      "              precision    recall  f1-score   support\n",
      "\n",
      "           0       1.00      1.00      1.00       410\n",
      "           1       1.00      0.89      0.94         9\n",
      "\n",
      "    accuracy                           1.00       419\n",
      "   macro avg       1.00      0.94      0.97       419\n",
      "weighted avg       1.00      1.00      1.00       419\n",
      "\n",
      "Accuracy: 0.9976133651551312\n"
     ]
    }
   ],
   "source": [
    "# Vamos a generar unas métricas de evaluación\n",
    "from sklearn.metrics import classification_report, confusion_matrix, accuracy_score\n",
    "\n",
    "print(confusion_matrix(y_test,y_pred))\n",
    "print(classification_report(y_test,y_pred))\n",
    "print(\"Accuracy: {}\".format(accuracy_score(y_test, y_pred)))"
   ]
  },
  {
   "cell_type": "code",
   "execution_count": 30,
   "metadata": {
    "colab": {},
    "colab_type": "code",
    "id": "GG4Rx46JcfLf"
   },
   "outputs": [],
   "source": [
    "# Probemos con algunos casos nuevos, que no están en el corpus inicial\n",
    "diabetes_example = \"\"\"Diabetic patient with frequent urination, increased thirst, and increased hunger. \n",
    "Admited to the hospital due to a diabetic ketoacidosis episode. Personal historiy of cardiovascular disease, \n",
    "stroke, chronic kidney disease,  foot ulcers and diabetic retinopathy.\"\"\"\n"
   ]
  },
  {
   "cell_type": "code",
   "execution_count": 31,
   "metadata": {
    "colab": {
     "base_uri": "https://localhost:8080/",
     "height": 34
    },
    "colab_type": "code",
    "id": "K17zqQfciF0E",
    "outputId": "58afd87e-40b6-4226-f348-7ed9931ccb94"
   },
   "outputs": [
    {
     "data": {
      "text/plain": [
       "0.005254680927595615"
      ]
     },
     "execution_count": 31,
     "metadata": {},
     "output_type": "execute_result"
    }
   ],
   "source": [
    "# Vectorizamos usando el vectorizador generado con el training set.\n",
    "X_diabetes = vectorizer.transform([diabetes_example]).toarray()\n",
    "# y clasificamos usando el classifier entrenado con el training set.\n",
    "classifier.predict_proba(X_diabetes)[0][1]"
   ]
  },
  {
   "cell_type": "code",
   "execution_count": 32,
   "metadata": {
    "colab": {
     "base_uri": "https://localhost:8080/",
     "height": 34
    },
    "colab_type": "code",
    "id": "j2sNL0Onc2fu",
    "outputId": "5507b691-ea06-471c-8c5c-fad8b7ab83d6"
   },
   "outputs": [
    {
     "data": {
      "text/plain": [
       "0.183553450875725"
      ]
     },
     "execution_count": 32,
     "metadata": {},
     "output_type": "execute_result"
    }
   ],
   "source": [
    "# Ahora con un paciente donde aparece la palabra coronavirus\n",
    "\n",
    "coronavirus_example = \"\"\"76 years old women with fever, cough, flu-like symptons, \n",
    "since 3 days admitted to te emergency room.\n",
    "She has had contact with patients with coronavirus disease 1 week ago. In the\n",
    "Xray presents evidence of bilateral neumonia. During her stay in the ED she\n",
    "developed severe respiratory distress and hypoxemia.\n",
    "A chest TC revealed multifocal nodular \n",
    "consolidations with ground-glass opacity halo and mixed consolidation, \n",
    "mainly in the peripheral areas.\n",
    "\"\"\"\n",
    "\n",
    "X_coronavirus = vectorizer.transform([coronavirus_example]).toarray()\n",
    "#X_coronavirus = tfidfconverter.transform(X_coronavirus).toarray()\n",
    "\n",
    "classifier.predict_proba(X_coronavirus)[0][1]"
   ]
  },
  {
   "cell_type": "code",
   "execution_count": 33,
   "metadata": {
    "colab": {
     "base_uri": "https://localhost:8080/",
     "height": 34
    },
    "colab_type": "code",
    "id": "SjnbSOV4eJvH",
    "outputId": "f63725d4-dc79-43eb-d852-1eb92af5d815"
   },
   "outputs": [
    {
     "data": {
      "text/plain": [
       "0.065765072563565"
      ]
     },
     "execution_count": 33,
     "metadata": {},
     "output_type": "execute_result"
    }
   ],
   "source": [
    "# Ahora con un paciente donde no aparece la palabra coronavirus pero \n",
    "# que describe un cuadro clínico compatible con coronavirus\n",
    "\n",
    "clinical_example = \"\"\"76 years old women with fever, cough, flu-like symptons, \n",
    "since 3 days admitted to te emergency room.\n",
    "In the Xray presents evidence of bilateral neumonia. During her stay in the ED she\n",
    "developed severe respiratory distress and hypoxemia.\n",
    "A chest TC revealed multifocal nodular \n",
    "consolidations with ground-glass opacity halo and mixed consolidation, \n",
    "mainly in the peripheral areas.\n",
    "\"\"\"\n",
    "\n",
    "X_clinical = vectorizer.transform([clinical_example]).toarray()\n",
    "#X_clinical = tfidfconverter.transform(X_clinical).toarray()\n",
    "\n",
    "classifier.predict_proba(X_clinical)[0][1]"
   ]
  },
  {
   "cell_type": "markdown",
   "metadata": {
    "colab_type": "text",
    "id": "h5JwNX5eoENt"
   },
   "source": [
    "### Sección TF/IDF (opcional)"
   ]
  },
  {
   "cell_type": "code",
   "execution_count": 0,
   "metadata": {
    "colab": {},
    "colab_type": "code",
    "id": "tSuk_26jaaVZ"
   },
   "outputs": [],
   "source": [
    "from sklearn.feature_extraction.text import TfidfTransformer\n",
    "tfidfconverter = TfidfTransformer()\n",
    "X = tfidfconverter.fit_transform(X).toarray()"
   ]
  },
  {
   "cell_type": "code",
   "execution_count": 0,
   "metadata": {
    "colab": {
     "base_uri": "https://localhost:8080/",
     "height": 221
    },
    "colab_type": "code",
    "id": "2O803sOLf1k6",
    "outputId": "02ba8e4d-c01e-45dc-edb4-a766cf765af8"
   },
   "outputs": [
    {
     "name": "stdout",
     "output_type": "stream",
     "text": [
      "[[410   0]\n",
      " [  2   7]]\n",
      "              precision    recall  f1-score   support\n",
      "\n",
      "           0       1.00      1.00      1.00       410\n",
      "           1       1.00      0.78      0.88         9\n",
      "\n",
      "    accuracy                           1.00       419\n",
      "   macro avg       1.00      0.89      0.94       419\n",
      "weighted avg       1.00      1.00      0.99       419\n",
      "\n",
      "Accuracy: 0.9952267303102625\n"
     ]
    }
   ],
   "source": [
    "X_train, X_test, y_train, y_test = train_test_split(X, y, test_size=0.2, random_state=0)\n",
    "\n",
    "classifier = LogisticRegression(random_state=0).fit(X_train, y_train)\n",
    "\n",
    "y_pred = classifier.predict(X_test)\n",
    "\n",
    "print(confusion_matrix(y_test,y_pred))\n",
    "print(classification_report(y_test,y_pred))\n",
    "print(\"Accuracy: {}\".format(accuracy_score(y_test, y_pred)))"
   ]
  },
  {
   "cell_type": "code",
   "execution_count": 0,
   "metadata": {
    "colab": {},
    "colab_type": "code",
    "id": "hVpTzzCuc1bn"
   },
   "outputs": [],
   "source": [
    "X_diabetes = vectorizer.transform([diabetes_example]).toarray()\n",
    "X_diabetes = tfidfconverter.transform(X_diabetes).toarray()"
   ]
  },
  {
   "cell_type": "code",
   "execution_count": 0,
   "metadata": {
    "colab": {
     "base_uri": "https://localhost:8080/",
     "height": 34
    },
    "colab_type": "code",
    "id": "kgqrm5LPa9YZ",
    "outputId": "494c31c9-8fef-4e23-ba44-32048d1140e3"
   },
   "outputs": [
    {
     "data": {
      "text/plain": [
       "0.02135859364691269"
      ]
     },
     "execution_count": 29,
     "metadata": {
      "tags": []
     },
     "output_type": "execute_result"
    }
   ],
   "source": [
    "classifier.predict_proba(X_diabetes)[0][1]"
   ]
  },
  {
   "cell_type": "code",
   "execution_count": 0,
   "metadata": {
    "colab": {
     "base_uri": "https://localhost:8080/",
     "height": 34
    },
    "colab_type": "code",
    "id": "OgeM1Digf4_9",
    "outputId": "2253cf82-c4d1-4ec9-9463-9eec97cb1257"
   },
   "outputs": [
    {
     "data": {
      "text/plain": [
       "0.1126128529052829"
      ]
     },
     "execution_count": 30,
     "metadata": {
      "tags": []
     },
     "output_type": "execute_result"
    }
   ],
   "source": [
    "X_coronavirus = vectorizer.transform([coronavirus_example]).toarray()\n",
    "X_coronavirus = tfidfconverter.transform(X_coronavirus).toarray()\n",
    "\n",
    "classifier.predict_proba(X_coronavirus)[0][1]\n"
   ]
  },
  {
   "cell_type": "code",
   "execution_count": 0,
   "metadata": {
    "colab": {
     "base_uri": "https://localhost:8080/",
     "height": 34
    },
    "colab_type": "code",
    "id": "mPzWuWRAegsX",
    "outputId": "8a377a99-f82e-4ce1-a0b6-5dae7a7ec79d"
   },
   "outputs": [
    {
     "data": {
      "text/plain": [
       "0.06511478083078727"
      ]
     },
     "execution_count": 31,
     "metadata": {
      "tags": []
     },
     "output_type": "execute_result"
    }
   ],
   "source": [
    "X_clinical = vectorizer.transform([clinical_example]).toarray()\n",
    "X_clinical = tfidfconverter.transform(X_clinical).toarray()\n",
    "\n",
    "classifier.predict_proba(X_clinical)[0][1]"
   ]
  },
  {
   "cell_type": "code",
   "execution_count": 0,
   "metadata": {
    "colab": {},
    "colab_type": "code",
    "id": "_RmDhqGvie9W"
   },
   "outputs": [],
   "source": []
  }
 ],
 "metadata": {
  "colab": {
   "collapsed_sections": [
    "h5JwNX5eoENt"
   ],
   "name": "coronavirus-classifier-ml-approach.ipynb",
   "provenance": []
  },
  "kernelspec": {
   "display_name": "Python 3",
   "language": "python",
   "name": "python3"
  },
  "language_info": {
   "codemirror_mode": {
    "name": "ipython",
    "version": 3
   },
   "file_extension": ".py",
   "mimetype": "text/x-python",
   "name": "python",
   "nbconvert_exporter": "python",
   "pygments_lexer": "ipython3",
   "version": "3.6.9"
  }
 },
 "nbformat": 4,
 "nbformat_minor": 1
}
