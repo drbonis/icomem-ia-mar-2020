{
 "cells": [
  {
   "cell_type": "code",
   "execution_count": 3,
   "metadata": {
    "colab": {
     "base_uri": "https://localhost:8080/",
     "height": 34
    },
    "colab_type": "code",
    "id": "4gs9htvM7n_x",
    "outputId": "1890e420-dd9f-4b0e-bb95-9a91acf49eca"
   },
   "outputs": [],
   "source": [
    "# Run this to ensure TensorFlow 2.x is used\n",
    "try:\n",
    "  # %tensorflow_version only exists in Colab.\n",
    "  %tensorflow_version 2.x\n",
    "except Exception:\n",
    "  pass"
   ]
  },
  {
   "cell_type": "code",
   "execution_count": 4,
   "metadata": {
    "colab": {},
    "colab_type": "code",
    "id": "GbWvYaFGqiao"
   },
   "outputs": [],
   "source": [
    "import pandas as pd\n",
    "import json\n",
    "import tensorflow as tf\n",
    "import matplotlib.pyplot as plt \n",
    "\n",
    "from tensorflow.keras.preprocessing.text import Tokenizer\n",
    "from tensorflow.keras.preprocessing.sequence import pad_sequences\n",
    "\n",
    "from IPython.core.display import display, HTML\n",
    "from IPython.display import Image \n",
    "from statistics import mean"
   ]
  },
  {
   "cell_type": "code",
   "execution_count": 5,
   "metadata": {
    "colab": {},
    "colab_type": "code",
    "id": "QeCTgUeGqkNm"
   },
   "outputs": [],
   "source": [
    "data_url = 'https://github.com/drbonis/icomem-ia-mar-2020/raw/master/data/coronavirus_case_reports.csv'\n",
    "df = pd.read_csv(data_url)"
   ]
  },
  {
   "cell_type": "code",
   "execution_count": 6,
   "metadata": {
    "colab": {
     "base_uri": "https://localhost:8080/",
     "height": 204
    },
    "colab_type": "code",
    "id": "bRLR_puIvWZp",
    "outputId": "7b259902-1a83-4bb6-8904-0196a00e469b"
   },
   "outputs": [
    {
     "data": {
      "text/html": [
       "<div>\n",
       "<style scoped>\n",
       "    .dataframe tbody tr th:only-of-type {\n",
       "        vertical-align: middle;\n",
       "    }\n",
       "\n",
       "    .dataframe tbody tr th {\n",
       "        vertical-align: top;\n",
       "    }\n",
       "\n",
       "    .dataframe thead th {\n",
       "        text-align: right;\n",
       "    }\n",
       "</style>\n",
       "<table border=\"1\" class=\"dataframe\">\n",
       "  <thead>\n",
       "    <tr style=\"text-align: right;\">\n",
       "      <th></th>\n",
       "      <th>src</th>\n",
       "      <th>coronavirus</th>\n",
       "      <th>length</th>\n",
       "    </tr>\n",
       "  </thead>\n",
       "  <tbody>\n",
       "    <tr>\n",
       "      <th>0</th>\n",
       "      <td>BACKGROUND: Dengue is the most important human...</td>\n",
       "      <td>0</td>\n",
       "      <td>1634</td>\n",
       "    </tr>\n",
       "    <tr>\n",
       "      <th>1</th>\n",
       "      <td>A 21 year-old man, HIV infected, and with poor...</td>\n",
       "      <td>0</td>\n",
       "      <td>550</td>\n",
       "    </tr>\n",
       "    <tr>\n",
       "      <th>2</th>\n",
       "      <td>BACKGROUND: Keratomycosis is one of the most p...</td>\n",
       "      <td>0</td>\n",
       "      <td>1306</td>\n",
       "    </tr>\n",
       "    <tr>\n",
       "      <th>3</th>\n",
       "      <td>Congenital toxoplasmosis continues to be a pub...</td>\n",
       "      <td>0</td>\n",
       "      <td>1047</td>\n",
       "    </tr>\n",
       "    <tr>\n",
       "      <th>4</th>\n",
       "      <td>The incidence of prosthetic shoulder replaceme...</td>\n",
       "      <td>0</td>\n",
       "      <td>563</td>\n",
       "    </tr>\n",
       "  </tbody>\n",
       "</table>\n",
       "</div>"
      ],
      "text/plain": [
       "                                                 src  coronavirus  length\n",
       "0  BACKGROUND: Dengue is the most important human...            0    1634\n",
       "1  A 21 year-old man, HIV infected, and with poor...            0     550\n",
       "2  BACKGROUND: Keratomycosis is one of the most p...            0    1306\n",
       "3  Congenital toxoplasmosis continues to be a pub...            0    1047\n",
       "4  The incidence of prosthetic shoulder replaceme...            0     563"
      ]
     },
     "execution_count": 6,
     "metadata": {},
     "output_type": "execute_result"
    }
   ],
   "source": [
    "df.head()"
   ]
  },
  {
   "cell_type": "code",
   "execution_count": 8,
   "metadata": {
    "colab": {
     "base_uri": "https://localhost:8080/",
     "height": 68
    },
    "colab_type": "code",
    "id": "Gl1GS1HH4R8K",
    "outputId": "a59fe2fa-361a-4265-80f3-26310be1f514"
   },
   "outputs": [
    {
     "data": {
      "text/plain": [
       "0    2012\n",
       "1      81\n",
       "Name: coronavirus, dtype: int64"
      ]
     },
     "execution_count": 8,
     "metadata": {},
     "output_type": "execute_result"
    }
   ],
   "source": [
    "df['coronavirus'].value_counts()"
   ]
  },
  {
   "cell_type": "code",
   "execution_count": 9,
   "metadata": {
    "colab": {
     "base_uri": "https://localhost:8080/",
     "height": 34
    },
    "colab_type": "code",
    "id": "dCfVg1bq6vt9",
    "outputId": "a19469e3-1051-41eb-f929-e3c6590475fb"
   },
   "outputs": [
    {
     "data": {
      "text/plain": [
       "2093"
      ]
     },
     "execution_count": 9,
     "metadata": {},
     "output_type": "execute_result"
    }
   ],
   "source": [
    "df.shape[0]"
   ]
  },
  {
   "cell_type": "code",
   "execution_count": 10,
   "metadata": {
    "colab": {
     "base_uri": "https://localhost:8080/",
     "height": 170
    },
    "colab_type": "code",
    "id": "kwlfDzme4hkK",
    "outputId": "c2970c32-d261-4179-b75f-e248061cbd74"
   },
   "outputs": [
    {
     "data": {
      "text/html": [
       "<div>BACKGROUND: Dengue is the most important human viral disease transmitted by mosquitoes. It can be asymptomatic or it can present in any of its 3clinical forms: Dengue fever, dengue haemorrhagic fever and dengue shock syndrome. However, some atypical manifestations have been reported in surgical emergencies caused by acute appendicitis in patients with dengue fever. CLINICAL CASE: We report the case of an 18-year-old Mexican male who presented to the emergency department of the General Hospital of Culiacan, Sinaloa, with symptoms of dengue fever, accompanied by crampy abdominal pain with positive Rovsing and Dunphy signs. Dengue infection was confirmed by a positive NS1 antigen test performed by enzyme-linked immunosorbent assay. An abdominal ultrasound revealed an appendicular process; as the abdominal pain in the right side kept increasing, an open appendectomy was performed. Abundant inflammatory liquid was observed during the surgery, and the pathology laboratory reported an oedematous appendix with fibrinopurulent plaques, which agreed with acute ulcerative appendicitis. The patient was discharged fully recovered without complications during the follow-up period. CONCLUSIONS: Acute abdominal pain can be caused in some cases by dengue infection. This can be confusing, which can lead to unnecessary surgical interventions, creating additional morbidities and costs for the patient. This unusual and coincident acute appendicitis with dengue highlights the importance of performing careful clinical studies for appropriate decision making, especially in dengue endemic regions during an outbreak of this disease.</div>"
      ],
      "text/plain": [
       "<IPython.core.display.HTML object>"
      ]
     },
     "metadata": {},
     "output_type": "display_data"
    }
   ],
   "source": [
    "html_code = \"<div>\" + df.loc[df['coronavirus']==0, 'src'].iloc[0] + \"</div>\"\n",
    "display(HTML(html_code))"
   ]
  },
  {
   "cell_type": "code",
   "execution_count": 11,
   "metadata": {
    "colab": {
     "base_uri": "https://localhost:8080/",
     "height": 68
    },
    "colab_type": "code",
    "id": "9rwl5Ve85gOD",
    "outputId": "29aa4fc9-5eab-4cfb-fe41-f798f9ffd5b5"
   },
   "outputs": [
    {
     "data": {
      "text/html": [
       "<div>Radiologic findings of Middle East respiratory syndrome (MERS), a novel coronavirus infection, have been rarely reported. We report a 30-year-old male presented with fever, abdominal pain, and diarrhea, who was diagnosed with MERS. A chest computed tomographic scan revealed rapidly developed multifocal nodular consolidations with ground-glass opacity halo and mixed consolidation, mainly in the dependent and peripheral areas. After treatment, follow-up imaging showed that these abnormalities markedly decreased but fibrotic changes developed.</div>"
      ],
      "text/plain": [
       "<IPython.core.display.HTML object>"
      ]
     },
     "metadata": {},
     "output_type": "display_data"
    }
   ],
   "source": [
    "html_code = \"<div>\" + df.loc[df['coronavirus']==1, 'src'].iloc[0] + \"</div>\"\n",
    "display(HTML(html_code))"
   ]
  },
  {
   "cell_type": "code",
   "execution_count": 12,
   "metadata": {
    "colab": {
     "base_uri": "https://localhost:8080/",
     "height": 34
    },
    "colab_type": "code",
    "id": "0eJSTTYnkJQd",
    "outputId": "a5917deb-78da-4001-f091-b5e323ae7c1e"
   },
   "outputs": [
    {
     "name": "stdout",
     "output_type": "stream",
     "text": [
      "Training set: 1674, Testing set: 419\n"
     ]
    }
   ],
   "source": [
    "training_size = round(df.shape[0] * 0.8)\n",
    "print(\"Training set: {}, Testing set: {}\".format(training_size, df.shape[0] - training_size))"
   ]
  },
  {
   "cell_type": "code",
   "execution_count": 13,
   "metadata": {
    "colab": {},
    "colab_type": "code",
    "id": "X-eE3e1tteSo"
   },
   "outputs": [],
   "source": [
    "training_sentences = list(df.iloc[0:training_size]['src'])\n",
    "testing_sentences = list(df.iloc[training_size:]['src'])\n",
    "\n",
    "training_labels = list(df.iloc[0:training_size]['coronavirus'])\n",
    "testing_labels = list(df.iloc[training_size:]['coronavirus'])"
   ]
  },
  {
   "cell_type": "code",
   "execution_count": 14,
   "metadata": {
    "colab": {},
    "colab_type": "code",
    "id": "3u8UB0MCkZ5N"
   },
   "outputs": [],
   "source": [
    "tokenizer = Tokenizer(num_words=100000, oov_token=\"<OOV>\")"
   ]
  },
  {
   "cell_type": "code",
   "execution_count": 15,
   "metadata": {
    "colab": {},
    "colab_type": "code",
    "id": "PTNsdgJKueGS"
   },
   "outputs": [],
   "source": [
    "tokenizer.fit_on_texts(training_sentences)"
   ]
  },
  {
   "cell_type": "code",
   "execution_count": 16,
   "metadata": {
    "colab": {},
    "colab_type": "code",
    "id": "V7Ezo7rkupXO"
   },
   "outputs": [],
   "source": [
    "word_index = tokenizer.word_index"
   ]
  },
  {
   "cell_type": "code",
   "execution_count": 17,
   "metadata": {
    "colab": {
     "base_uri": "https://localhost:8080/",
     "height": 34
    },
    "colab_type": "code",
    "id": "HUi19Qbquvlx",
    "outputId": "2e6b2a38-1a44-4280-faec-21ba70f00677"
   },
   "outputs": [
    {
     "name": "stdout",
     "output_type": "stream",
     "text": [
      "Número de tokens encontrados en el training set: 15810\n"
     ]
    }
   ],
   "source": [
    "vocab_size = len(list(word_index.keys()))\n",
    "print(\"Número de tokens encontrados en el training set: {}\".format(vocab_size))"
   ]
  },
  {
   "cell_type": "code",
   "execution_count": 18,
   "metadata": {
    "colab": {},
    "colab_type": "code",
    "id": "YMMapbcc7Mjz"
   },
   "outputs": [],
   "source": [
    "tokenizer = Tokenizer(num_words=vocab_size, oov_token=\"<OOV>\")\n",
    "tokenizer.fit_on_texts(training_sentences)\n",
    "word_index = tokenizer.word_index"
   ]
  },
  {
   "cell_type": "code",
   "execution_count": 19,
   "metadata": {
    "colab": {
     "base_uri": "https://localhost:8080/",
     "height": 34
    },
    "colab_type": "code",
    "id": "eP8rjxqf7Yqg",
    "outputId": "5ff0437d-b783-4ee2-c1ca-bc63601be4e6"
   },
   "outputs": [
    {
     "name": "stdout",
     "output_type": "stream",
     "text": [
      "Coronavirus: 348\n"
     ]
    }
   ],
   "source": [
    "print(\"Coronavirus: {}\".format(word_index['coronavirus']))"
   ]
  },
  {
   "cell_type": "code",
   "execution_count": 20,
   "metadata": {
    "colab": {},
    "colab_type": "code",
    "id": "EwerosEUutsA"
   },
   "outputs": [],
   "source": [
    "training_sequences = tokenizer.texts_to_sequences(training_sentences)"
   ]
  },
  {
   "cell_type": "code",
   "execution_count": 21,
   "metadata": {
    "colab": {
     "base_uri": "https://localhost:8080/",
     "height": 102
    },
    "colab_type": "code",
    "id": "BHN7IgmFwUZA",
    "outputId": "9cfe6b21-82cd-40be-ce81-7730aae407c3"
   },
   "outputs": [
    {
     "name": "stdout",
     "output_type": "stream",
     "text": [
      "BACKGROUND: Dengue is the most important human viral disease transmitted by mosquitoes. It can be as ...\n",
      "\n",
      "[128, 822, 9, 2, 58, 191, 368, 462, 30, 1501]...\n",
      "\n",
      "background(128) : dengue(822) is(9) ...\n"
     ]
    }
   ],
   "source": [
    "print(training_sentences[0][0:100] + \" ...\")\n",
    "print(\"\")\n",
    "print(str(training_sequences[0][0:10]) + \"...\")\n",
    "print(\"\")\n",
    "print(\"background({}) : dengue({}) is({}) ...\".format(word_index['background'], word_index['dengue'], word_index['is']))"
   ]
  },
  {
   "cell_type": "code",
   "execution_count": 22,
   "metadata": {
    "colab": {
     "base_uri": "https://localhost:8080/",
     "height": 153
    },
    "colab_type": "code",
    "id": "D6j9TmpFx9Ht",
    "outputId": "039b54ba-bf23-4349-ab6a-67446afdf0f3"
   },
   "outputs": [
    {
     "name": "stdout",
     "output_type": "stream",
     "text": [
      "BACKGROUND: Dengue is the most important human viral disease transmitted by mosquitoes. It can be as ...\n",
      "Number of tokens: 235\n",
      "\n",
      "A 21 year-old man, HIV infected, and with poor adherence to antiretroviral treatment, consulted us d ...\n",
      "Number of tokens: 81\n",
      "\n",
      "BACKGROUND: Keratomycosis is one of the most prevalent ophthalmic infections, which needs a specific ...\n",
      "Number of tokens: 195\n"
     ]
    }
   ],
   "source": [
    "print(training_sentences[0][0:100] + \" ...\")\n",
    "print(\"Number of tokens: {}\".format(len(training_sequences[0])))\n",
    "print(\"\")\n",
    "print(training_sentences[1][0:100] + \" ...\")\n",
    "print(\"Number of tokens: {}\".format(len(training_sequences[1])))\n",
    "print(\"\")\n",
    "print(training_sentences[2][0:100] + \" ...\")\n",
    "print(\"Number of tokens: {}\".format(len(training_sequences[2])))"
   ]
  },
  {
   "cell_type": "code",
   "execution_count": 23,
   "metadata": {
    "colab": {
     "base_uri": "https://localhost:8080/",
     "height": 282
    },
    "colab_type": "code",
    "id": "BTNqnKVm8ORv",
    "outputId": "b3d46438-e761-4c72-91c0-b76b3deec64a"
   },
   "outputs": [
    {
     "data": {
      "image/png": "[encoded data removed]",
      "text/plain": [
       "<Figure size 432x288 with 1 Axes>"
      ]
     },
     "metadata": {
      "needs_background": "light"
     },
     "output_type": "display_data"
    },
    {
     "name": "stdout",
     "output_type": "stream",
     "text": [
      "Min: 43, Media: 138, Max: 487\n"
     ]
    }
   ],
   "source": [
    "seq_len = [len(x) for x in training_sequences]\n",
    "plt.hist(seq_len, bins=50)\n",
    "plt.show()\n",
    "print(\"Min: {}, Media: {}, Max: {}\".format(min(seq_len), round(mean(seq_len)), max(seq_len)))"
   ]
  },
  {
   "cell_type": "code",
   "execution_count": 24,
   "metadata": {
    "colab": {},
    "colab_type": "code",
    "id": "q9Vi2yP1wPk4"
   },
   "outputs": [],
   "source": [
    "training_padded = pad_sequences(training_sequences, maxlen=200, padding='post', truncating='post')"
   ]
  },
  {
   "cell_type": "code",
   "execution_count": 25,
   "metadata": {
    "colab": {
     "base_uri": "https://localhost:8080/",
     "height": 374
    },
    "colab_type": "code",
    "id": "gDpokmXyyYwl",
    "outputId": "20401a69-3e52-45bb-fb33-7b1a63323764"
   },
   "outputs": [
    {
     "name": "stdout",
     "output_type": "stream",
     "text": [
      "BACKGROUND: Dengue is the most important human viral disease transmitted by mosquitoes. It can be as ...\n",
      "Number of tokens: 235\n",
      "[ 128  822    9    2   58  191  368  462   30 1501   13 4419   22   48\n",
      "   27  273   31   22   48   44    6  329    3   45 9130  549  822  162\n",
      "  822 2388  162    4  822  807   36  121  235  463  249   51   53   67\n",
      "    6   55 9131  101   13   65 1285    6   23    7  822  162   21   11\n",
      "   16   32    2   11    3   12  449   29   25 5324   82   41   38    8\n",
      "    2  385  528    3    2  670  182    3 9132 9133    7   68    3  822\n",
      "  162  649   13 9134  102   75    7  153 9135    4 9136  219  822   60\n",
      "   10  114] ...\n",
      "\n",
      "BACKGROUND: Dengue is the most important human viral disease transmitted by mosquitoes. It can be as ...\n",
      "Number of tokens: 235\n",
      "[   5 1084   29   25  184  451  915    4    7  407 2775    8 1573   18\n",
      " 1085  688   42    8    5 6732 1188   34 1502    4  868  578 1757 9141\n",
      " 3833   34  201  869   94   10 5326    4 6733 1288    6    2 2585   92\n",
      "    3    2   21  931  764   39  188   88 3834  443    7 9142   35  173\n",
      "  350 1652   10 1439    7   12  689   21  118  332    2  466 9143  630\n",
      "    6 9144   21 5327   34    5  579   17    9  530   40    0    0    0\n",
      "    0    0    0    0    0    0    0    0    0    0    0    0    0    0\n",
      "    0    0] ...\n"
     ]
    }
   ],
   "source": [
    "print(training_sentences[0][0:100] + \" ...\")\n",
    "print(\"Number of tokens: {}\".format(len(training_sequences[0])))\n",
    "print(str(training_padded[0][0:100]) + \" ...\")\n",
    "print(\"\")\n",
    "print(training_sentences[0][0:100] + \" ...\")\n",
    "print(\"Number of tokens: {}\".format(len(training_sequences[0])))\n",
    "print(str(training_padded[1][0:100]) + \" ...\")"
   ]
  },
  {
   "cell_type": "code",
   "execution_count": 26,
   "metadata": {
    "colab": {},
    "colab_type": "code",
    "id": "O9BYMLM9x7Y8"
   },
   "outputs": [],
   "source": [
    "testing_sequences = tokenizer.texts_to_sequences(testing_sentences)\n",
    "testing_padded = pad_sequences(testing_sequences, maxlen=200, padding='post', truncating='post')"
   ]
  },
  {
   "cell_type": "code",
   "execution_count": 27,
   "metadata": {
    "colab": {},
    "colab_type": "code",
    "id": "GrAlWBKf99Ya"
   },
   "outputs": [],
   "source": [
    "# Transformamos a numpy para poder usar TensorFlow 2.x\n",
    "import numpy as np\n",
    "training_padded = np.array(training_padded)\n",
    "training_labels = np.array(training_labels)\n",
    "testing_padded = np.array(testing_padded)\n",
    "testing_labels = np.array(testing_labels)"
   ]
  },
  {
   "cell_type": "markdown",
   "metadata": {
    "colab_type": "text",
    "id": "NrodXM01zKUO"
   },
   "source": [
    "Vamos a construir una red neuronal con ayuda de la librería Keras compuesta por cuantro capas:"
   ]
  },
  {
   "cell_type": "code",
   "execution_count": 28,
   "metadata": {
    "colab": {},
    "colab_type": "code",
    "id": "FufaT4vlkiDE"
   },
   "outputs": [],
   "source": [
    "model = tf.keras.Sequential([\n",
    "    tf.keras.layers.Embedding(vocab_size, 128, input_length=200),\n",
    "    tf.keras.layers.GlobalAveragePooling1D(),\n",
    "    tf.keras.layers.Dense(32, activation='relu'),\n",
    "    tf.keras.layers.Dense(1, activation='sigmoid')\n",
    "])\n",
    "\n",
    "model.compile(loss='binary_crossentropy',optimizer='adam',metrics=['accuracy'])\n"
   ]
  },
  {
   "cell_type": "code",
   "execution_count": 29,
   "metadata": {
    "colab": {
     "base_uri": "https://localhost:8080/",
     "height": 289
    },
    "colab_type": "code",
    "id": "XfDt1hmYkiys",
    "outputId": "39ab58f5-c053-4a61-9839-09d021cc92fc"
   },
   "outputs": [
    {
     "name": "stdout",
     "output_type": "stream",
     "text": [
      "Model: \"sequential\"\n",
      "_________________________________________________________________\n",
      "Layer (type)                 Output Shape              Param #   \n",
      "=================================================================\n",
      "embedding (Embedding)        (None, 200, 128)          2023680   \n",
      "_________________________________________________________________\n",
      "global_average_pooling1d (Gl (None, 128)               0         \n",
      "_________________________________________________________________\n",
      "dense (Dense)                (None, 32)                4128      \n",
      "_________________________________________________________________\n",
      "dense_1 (Dense)              (None, 1)                 33        \n",
      "=================================================================\n",
      "Total params: 2,027,841\n",
      "Trainable params: 2,027,841\n",
      "Non-trainable params: 0\n",
      "_________________________________________________________________\n"
     ]
    }
   ],
   "source": [
    "model.summary()\n"
   ]
  },
  {
   "cell_type": "code",
   "execution_count": 31,
   "metadata": {
    "colab": {
     "base_uri": "https://localhost:8080/",
     "height": 1000
    },
    "colab_type": "code",
    "id": "2DTKQFf1kkyc",
    "outputId": "da6d3acf-8c99-49ab-9d87-17fcf202b7bd"
   },
   "outputs": [
    {
     "name": "stdout",
     "output_type": "stream",
     "text": [
      "Train on 1674 samples, validate on 419 samples\n",
      "Epoch 1/30\n",
      "1674/1674 [==============================] - 2s 1ms/sample - loss: 0.4598 - accuracy: 0.9558 - val_loss: 0.2190 - val_accuracy: 0.9547\n",
      "Epoch 2/30\n",
      "1674/1674 [==============================] - 1s 585us/sample - loss: 0.1507 - accuracy: 0.9630 - val_loss: 0.1580 - val_accuracy: 0.9547\n",
      "Epoch 3/30\n",
      "1674/1674 [==============================] - 1s 548us/sample - loss: 0.1256 - accuracy: 0.9630 - val_loss: 0.1392 - val_accuracy: 0.9547\n",
      "Epoch 4/30\n",
      "1674/1674 [==============================] - 1s 549us/sample - loss: 0.1053 - accuracy: 0.9630 - val_loss: 0.1160 - val_accuracy: 0.9547\n",
      "Epoch 5/30\n",
      "1674/1674 [==============================] - 1s 510us/sample - loss: 0.0836 - accuracy: 0.9630 - val_loss: 0.0908 - val_accuracy: 0.9547\n",
      "Epoch 6/30\n",
      "1674/1674 [==============================] - 1s 511us/sample - loss: 0.0600 - accuracy: 0.9725 - val_loss: 0.0662 - val_accuracy: 0.9714\n",
      "Epoch 7/30\n",
      "1674/1674 [==============================] - 1s 502us/sample - loss: 0.0370 - accuracy: 0.9857 - val_loss: 0.0457 - val_accuracy: 0.9881\n",
      "Epoch 8/30\n",
      "1674/1674 [==============================] - 1s 500us/sample - loss: 0.0200 - accuracy: 0.9976 - val_loss: 0.0321 - val_accuracy: 0.9928\n",
      "Epoch 9/30\n",
      "1674/1674 [==============================] - 1s 551us/sample - loss: 0.0105 - accuracy: 1.0000 - val_loss: 0.0270 - val_accuracy: 0.9928\n",
      "Epoch 10/30\n",
      "1674/1674 [==============================] - 1s 488us/sample - loss: 0.0061 - accuracy: 1.0000 - val_loss: 0.0220 - val_accuracy: 0.9928\n",
      "Epoch 11/30\n",
      "1674/1674 [==============================] - 1s 505us/sample - loss: 0.0040 - accuracy: 1.0000 - val_loss: 0.0207 - val_accuracy: 0.9928\n",
      "Epoch 12/30\n",
      "1674/1674 [==============================] - 1s 499us/sample - loss: 0.0028 - accuracy: 1.0000 - val_loss: 0.0204 - val_accuracy: 0.9928\n",
      "Epoch 13/30\n",
      "1674/1674 [==============================] - 1s 526us/sample - loss: 0.0021 - accuracy: 1.0000 - val_loss: 0.0208 - val_accuracy: 0.9928\n",
      "Epoch 14/30\n",
      "1674/1674 [==============================] - 1s 485us/sample - loss: 0.0016 - accuracy: 1.0000 - val_loss: 0.0196 - val_accuracy: 0.9928\n",
      "Epoch 15/30\n",
      "1674/1674 [==============================] - 1s 494us/sample - loss: 0.0013 - accuracy: 1.0000 - val_loss: 0.0187 - val_accuracy: 0.9928\n",
      "Epoch 16/30\n",
      "1674/1674 [==============================] - 1s 545us/sample - loss: 0.0010 - accuracy: 1.0000 - val_loss: 0.0186 - val_accuracy: 0.9928\n",
      "Epoch 17/30\n",
      "1674/1674 [==============================] - 1s 508us/sample - loss: 8.4567e-04 - accuracy: 1.0000 - val_loss: 0.0193 - val_accuracy: 0.9928\n",
      "Epoch 18/30\n",
      "1674/1674 [==============================] - 1s 485us/sample - loss: 7.1595e-04 - accuracy: 1.0000 - val_loss: 0.0185 - val_accuracy: 0.9928\n",
      "Epoch 19/30\n",
      "1674/1674 [==============================] - 1s 499us/sample - loss: 6.1119e-04 - accuracy: 1.0000 - val_loss: 0.0186 - val_accuracy: 0.9928\n",
      "Epoch 20/30\n",
      "1674/1674 [==============================] - 1s 510us/sample - loss: 5.3626e-04 - accuracy: 1.0000 - val_loss: 0.0194 - val_accuracy: 0.9928\n",
      "Epoch 21/30\n",
      "1674/1674 [==============================] - 1s 516us/sample - loss: 4.5991e-04 - accuracy: 1.0000 - val_loss: 0.0186 - val_accuracy: 0.9928\n",
      "Epoch 22/30\n",
      "1674/1674 [==============================] - 1s 518us/sample - loss: 4.0398e-04 - accuracy: 1.0000 - val_loss: 0.0191 - val_accuracy: 0.9928\n",
      "Epoch 23/30\n",
      "1674/1674 [==============================] - 1s 522us/sample - loss: 3.6485e-04 - accuracy: 1.0000 - val_loss: 0.0187 - val_accuracy: 0.9928\n",
      "Epoch 24/30\n",
      "1674/1674 [==============================] - 1s 512us/sample - loss: 3.2368e-04 - accuracy: 1.0000 - val_loss: 0.0191 - val_accuracy: 0.9928\n",
      "Epoch 25/30\n",
      "1674/1674 [==============================] - 1s 570us/sample - loss: 2.8895e-04 - accuracy: 1.0000 - val_loss: 0.0189 - val_accuracy: 0.9928\n",
      "Epoch 26/30\n",
      "1674/1674 [==============================] - 1s 529us/sample - loss: 2.5973e-04 - accuracy: 1.0000 - val_loss: 0.0192 - val_accuracy: 0.9928\n",
      "Epoch 27/30\n",
      "1674/1674 [==============================] - 1s 552us/sample - loss: 2.3616e-04 - accuracy: 1.0000 - val_loss: 0.0194 - val_accuracy: 0.9928\n",
      "Epoch 28/30\n",
      "1674/1674 [==============================] - 1s 522us/sample - loss: 2.1616e-04 - accuracy: 1.0000 - val_loss: 0.0196 - val_accuracy: 0.9928\n",
      "Epoch 29/30\n",
      "1674/1674 [==============================] - 1s 557us/sample - loss: 1.9676e-04 - accuracy: 1.0000 - val_loss: 0.0194 - val_accuracy: 0.9928\n",
      "Epoch 30/30\n",
      "1674/1674 [==============================] - 1s 523us/sample - loss: 1.7972e-04 - accuracy: 1.0000 - val_loss: 0.0193 - val_accuracy: 0.9928\n"
     ]
    }
   ],
   "source": [
    "num_epochs = 30\n",
    "history = model.fit(training_padded, training_labels, epochs=num_epochs, validation_data=(testing_padded, testing_labels), verbose=1)"
   ]
  },
  {
   "cell_type": "code",
   "execution_count": 32,
   "metadata": {
    "colab": {
     "base_uri": "https://localhost:8080/",
     "height": 541
    },
    "colab_type": "code",
    "id": "2HYfBKXjkmU8",
    "outputId": "42c2dffe-ab1d-445a-e6b8-c7866fc0ff1b"
   },
   "outputs": [
    {
     "data": {
      "image/png": "[encoded data removed]",
      "text/plain": [
       "<Figure size 432x288 with 1 Axes>"
      ]
     },
     "metadata": {
      "needs_background": "light"
     },
     "output_type": "display_data"
    },
    {
     "data": {
      "image/png": "[encoded data removed]",
      "text/plain": [
       "<Figure size 432x288 with 1 Axes>"
      ]
     },
     "metadata": {
      "needs_background": "light"
     },
     "output_type": "display_data"
    }
   ],
   "source": [
    "def plot_graphs(history, string):\n",
    "  plt.plot(history.history[string])\n",
    "  plt.plot(history.history['val_'+string])\n",
    "  plt.xlabel(\"Epochs\")\n",
    "  plt.ylabel(string)\n",
    "  plt.legend([string, 'val_'+string])\n",
    "  plt.show()\n",
    "  \n",
    "plot_graphs(history, \"accuracy\")\n",
    "plot_graphs(history, \"loss\")"
   ]
  },
  {
   "cell_type": "code",
   "execution_count": 33,
   "metadata": {
    "colab": {
     "base_uri": "https://localhost:8080/",
     "height": 833
    },
    "colab_type": "code",
    "id": "c9MqihtEkzQ9",
    "outputId": "bd0c93c4-2fc1-48c9-cfa4-ef63d202c687"
   },
   "outputs": [
    {
     "name": "stdout",
     "output_type": "stream",
     "text": [
      "coronavirus\n",
      "[ 0.23423281  0.48361126  0.3795249   0.43192342  0.4341547  -0.4179412\n",
      " -0.41750482 -0.41706485 -0.26567578  0.28342918 -0.24819466  0.24638207\n",
      "  0.25010374 -0.23189297 -0.28102872 -0.13087878 -0.22549742  0.23047681\n",
      " -0.40485093 -0.40533814  0.43325338 -0.29429856 -0.4210707  -0.3579994\n",
      " -0.29939863 -0.21122047 -0.5003386  -0.32450873  0.3611064  -0.2731484\n",
      " -0.35555673  0.41162544  0.2409167  -0.35764307 -0.29350692 -0.3663616\n",
      " -0.35194498  0.365179   -0.2932919   0.43423942  0.40226075  0.290116\n",
      "  0.3246431   0.32660842 -0.26625127 -0.2692335   0.352095   -0.4019278\n",
      "  0.44707748 -0.43896827 -0.29117057  0.35470834 -0.29998195 -0.20722525\n",
      "  0.36994508  0.4278877   0.35944355 -0.4236518   0.24504791  0.31959403\n",
      " -0.32553378 -0.24087319  0.29820964 -0.3777564   0.31612426 -0.41752017\n",
      "  0.32937798  0.33842435 -0.31376493 -0.44990006 -0.30790615  0.4661802\n",
      " -0.40924448  0.48178276  0.26111716 -0.32861426  0.30146435  0.35131434\n",
      " -0.23422173  0.40264955  0.35208425 -0.20577218  0.38746434 -0.37511703\n",
      " -0.27465898  0.41784054  0.46674687  0.24863586  0.2777468   0.19245331\n",
      "  0.4268779   0.30466014 -0.40431693 -0.30743763  0.22510445 -0.33543\n",
      "  0.2844945  -0.39042324 -0.47121322  0.36924845  0.4292536  -0.32206082\n",
      " -0.31790966  0.33238193  0.467991   -0.478263   -0.39273056 -0.22828922\n",
      " -0.481635    0.22833547 -0.29007682  0.29381445 -0.3395238  -0.37300333\n",
      "  0.48129416  0.30188963  0.52238697 -0.26496154 -0.5342656   0.449956\n",
      "  0.48498082 -0.36311945  0.28453648  0.36517832  0.31353757 -0.40342754\n",
      " -0.25137675 -0.40840212]\n",
      "\n",
      "fever\n",
      "[ 0.00480187  0.1081695   0.05047362  0.08659983  0.10767774 -0.12305709\n",
      " -0.10351285 -0.13571095 -0.06866481  0.05920613  0.0186049   0.06365736\n",
      "  0.0518674   0.00976973 -0.07329973  0.06558295  0.01605226 -0.04325432\n",
      " -0.14547619 -0.13256559  0.12892263 -0.01687378 -0.08959822 -0.03939406\n",
      " -0.01344005 -0.06938146 -0.16155104 -0.05709345  0.09459119  0.01443592\n",
      " -0.08495799  0.10408303 -0.015177   -0.02528585 -0.08038793 -0.06187672\n",
      " -0.05087167  0.11423159 -0.01364527  0.0927169   0.11564256  0.08496477\n",
      "  0.03429817  0.05953513  0.0042104   0.00757537  0.01526266 -0.06914125\n",
      "  0.1677616  -0.1440479  -0.02800177  0.01416937 -0.08362346 -0.04865784\n",
      "  0.02578335  0.04267251  0.02115448 -0.12814236  0.05100555  0.02536213\n",
      " -0.05740796 -0.00695681  0.06161112 -0.12354841  0.07200639 -0.1305165\n",
      "  0.03568264  0.04442042 -0.06979281 -0.15926756 -0.09762894  0.12630178\n",
      " -0.1456676   0.11496117  0.07294226 -0.07913794  0.03531086  0.10167032\n",
      " -0.0238728   0.06177583  0.07242648 -0.01066339  0.14052255 -0.1323755\n",
      " -0.00895824  0.08099494  0.18157479  0.0571834  -0.00746427  0.02608776\n",
      "  0.1269512   0.02903374 -0.0870131  -0.01638864  0.01842604 -0.07868323\n",
      "  0.02059352 -0.03861998 -0.14196318  0.07209659  0.11534826 -0.01678939\n",
      " -0.04138916  0.03460754  0.12667422 -0.1336538  -0.07824347 -0.05655765\n",
      " -0.12407684 -0.00675653 -0.02148592  0.0499119  -0.07285465 -0.05736475\n",
      "  0.09136454  0.00554841  0.1554653  -0.06397865 -0.15865736  0.12592636\n",
      "  0.13517785 -0.06669682  0.01232499  0.06702723  0.12910375 -0.13608825\n",
      " -0.07842272 -0.0767433 ]\n",
      "\n"
     ]
    }
   ],
   "source": [
    "embeddings_values = model.layers[0]\n",
    "weights = embeddings_values.get_weights()[0]\n",
    "print('coronavirus')\n",
    "print(weights[word_index['coronavirus']])\n",
    "print(\"\")\n",
    "print('fever')\n",
    "print(weights[word_index['fever']])\n",
    "print(\"\")\n",
    "\n",
    "\n"
   ]
  },
  {
   "cell_type": "code",
   "execution_count": 34,
   "metadata": {
    "colab": {
     "base_uri": "https://localhost:8080/",
     "height": 34
    },
    "colab_type": "code",
    "id": "cG8-ArY-qDcz",
    "outputId": "98b1f2b5-8cac-4ffa-fa54-731ea472dedc"
   },
   "outputs": [
    {
     "name": "stdout",
     "output_type": "stream",
     "text": [
      "Probability of being a patient with coronavirus: 0.010321189649403095\n"
     ]
    }
   ],
   "source": [
    "diabetes_example = \"\"\"Diabetic patient with frequent urination,\n",
    "increased thirst, and increased hunger. Admited to the hospital due to a \n",
    "diabetic ketoacidosis episode.\n",
    "Personal historiy of cardiovascular disease, stroke, chronic kidney disease, \n",
    "foot ulcers and diabetic retinopathy.\"\"\"\n",
    "\n",
    "sentence = [diabetes_example]\n",
    "sequence = tokenizer.texts_to_sequences(sentence)\n",
    "padded = pad_sequences(sequence, maxlen=200, padding='post', truncating='post')\n",
    "print(\"Probability of being a patient with coronavirus: {}\".format(model.predict(padded)[0][0]))\n",
    "\n"
   ]
  },
  {
   "cell_type": "code",
   "execution_count": 35,
   "metadata": {
    "colab": {
     "base_uri": "https://localhost:8080/",
     "height": 34
    },
    "colab_type": "code",
    "id": "I_0vT0FjA1Q7",
    "outputId": "69b7e606-e18b-4836-fc6c-d0829001ca5e"
   },
   "outputs": [
    {
     "name": "stdout",
     "output_type": "stream",
     "text": [
      "Probability of being a patient with coronavirus: 0.7867390513420105\n"
     ]
    }
   ],
   "source": [
    "coronavirus_example = \"\"\"76 years old women with fever, cough, flu-like symptons, \n",
    "since 3 days admitted to te emergency room.\n",
    "She has had contact with patients with coronavirus disease 1 week ago. In the\n",
    "Xray presents evidence of bilateral neumonia. During her stay in the ED she\n",
    "developed severe respiratory distress and hypoxemia.\n",
    "A chest TC revealed multifocal nodular \n",
    "consolidations with ground-glass opacity halo and mixed consolidation, \n",
    "mainly in the peripheral areas.\n",
    "\"\"\"\n",
    "\n",
    "sentence = [coronavirus_example]\n",
    "sequence = tokenizer.texts_to_sequences(sentence)\n",
    "padded = pad_sequences(sequence, maxlen=200, padding='post', truncating='post')\n",
    "print(\"Probability of being a patient with coronavirus: {}\".format(model.predict(padded)[0][0]))"
   ]
  },
  {
   "cell_type": "code",
   "execution_count": 36,
   "metadata": {
    "colab": {
     "base_uri": "https://localhost:8080/",
     "height": 34
    },
    "colab_type": "code",
    "id": "6X8w_STx2egB",
    "outputId": "9aa55340-1838-42c9-f15f-51360a51ccd0"
   },
   "outputs": [
    {
     "name": "stdout",
     "output_type": "stream",
     "text": [
      "Probability of being a patient with coronavirus: 0.6778934001922607\n"
     ]
    }
   ],
   "source": [
    "clinical_example = \"\"\"76 years old women with fever, cough, flu-like symptons, \n",
    "since 3 days admitted to te emergency room.\n",
    "In the Xray presents evidence of bilateral neumonia. During her stay in the ED she\n",
    "developed severe respiratory distress and hypoxemia.\n",
    "A chest TC revealed multifocal nodular \n",
    "consolidations with ground-glass opacity halo and mixed consolidation, \n",
    "mainly in the peripheral areas.\n",
    "\"\"\"\n",
    "\n",
    "sentence = [clinical_example]\n",
    "sequence = tokenizer.texts_to_sequences(sentence)\n",
    "padded = pad_sequences(sequence, maxlen=200, padding='post', truncating='post')\n",
    "print(\"Probability of being a patient with coronavirus: {}\".format(model.predict(padded)[0][0]))"
   ]
  },
  {
   "cell_type": "code",
   "execution_count": null,
   "metadata": {
    "colab": {},
    "colab_type": "code",
    "id": "IybxZxKY2-kd"
   },
   "outputs": [],
   "source": []
  }
 ],
 "metadata": {
  "accelerator": "GPU",
  "colab": {
   "collapsed_sections": [],
   "name": "coronavirus-classifier.ipynb",
   "provenance": [],
   "toc_visible": true
  },
  "kernelspec": {
   "display_name": "Python 3",
   "language": "python",
   "name": "python3"
  },
  "language_info": {
   "codemirror_mode": {
    "name": "ipython",
    "version": 3
   },
   "file_extension": ".py",
   "mimetype": "text/x-python",
   "name": "python",
   "nbconvert_exporter": "python",
   "pygments_lexer": "ipython3",
   "version": "3.6.9"
  }
 },
 "nbformat": 4,
 "nbformat_minor": 1
}
